{
  "nbformat": 4,
  "nbformat_minor": 0,
  "metadata": {
    "colab": {
      "name": "text-analysist.ipynb",
      "provenance": [],
      "mount_file_id": "1hzIinuIpLqUGtSD7u0ZdAWw8s2hFhoT7",
      "authorship_tag": "ABX9TyP1gLa38EUmLtANRf9VaOsU",
      "include_colab_link": true
    },
    "kernelspec": {
      "name": "python3",
      "display_name": "Python 3"
    },
    "language_info": {
      "name": "python"
    }
  },
  "cells": [
    {
      "cell_type": "markdown",
      "metadata": {
        "id": "view-in-github",
        "colab_type": "text"
      },
      "source": [
        "<a href=\"https://colab.research.google.com/github/Hyun-Jun-Lee/News_Analysis/blob/main/text_analysist.ipynb\" target=\"_parent\"><img src=\"https://colab.research.google.com/assets/colab-badge.svg\" alt=\"Open In Colab\"/></a>"
      ]
    },
    {
      "cell_type": "code",
      "execution_count": 22,
      "metadata": {
        "id": "VwXWuMyqJjcf"
      },
      "outputs": [],
      "source": [
        "import pandas as pd\n",
        "import numpy as np\n",
        "import matplotlib.pyplot as plt\n",
        "import seaborn as sns\n",
        "import plotly.express as px"
      ]
    },
    {
      "cell_type": "code",
      "source": [
        "data = pd.read_csv('/content/drive/MyDrive/1-8월 뉴스.csv')\n",
        "data"
      ],
      "metadata": {
        "id": "gj8nngJHJ1oH",
        "outputId": "8ea0cc2e-8e4d-4a9c-a011-5e4e61b5599a",
        "colab": {
          "base_uri": "https://localhost:8080/",
          "height": 641
        }
      },
      "execution_count": 3,
      "outputs": [
        {
          "output_type": "execute_result",
          "data": {
            "text/html": [
              "\n",
              "  <div id=\"df-0beb7525-0f38-4035-bb56-312c9c6483aa\">\n",
              "    <div class=\"colab-df-container\">\n",
              "      <div>\n",
              "<style scoped>\n",
              "    .dataframe tbody tr th:only-of-type {\n",
              "        vertical-align: middle;\n",
              "    }\n",
              "\n",
              "    .dataframe tbody tr th {\n",
              "        vertical-align: top;\n",
              "    }\n",
              "\n",
              "    .dataframe thead th {\n",
              "        text-align: right;\n",
              "    }\n",
              "</style>\n",
              "<table border=\"1\" class=\"dataframe\">\n",
              "  <thead>\n",
              "    <tr style=\"text-align: right;\">\n",
              "      <th></th>\n",
              "      <th>title</th>\n",
              "      <th>text</th>\n",
              "      <th>url</th>\n",
              "      <th>media</th>\n",
              "      <th>date</th>\n",
              "    </tr>\n",
              "  </thead>\n",
              "  <tbody>\n",
              "    <tr>\n",
              "      <th>0</th>\n",
              "      <td>무너지는 일과 삶의 경계···노동이 녹아내린다</td>\n",
              "      <td>이 땅에서 ‘비정규직’이라는 표현이 광범위하게 쓰인 지 20여년. 정부가 신규 일자...</td>\n",
              "      <td>https://news.naver.com/main/read.nhn?mode=LPOD...</td>\n",
              "      <td>경향신문</td>\n",
              "      <td>2020-01-01</td>\n",
              "    </tr>\n",
              "    <tr>\n",
              "      <th>1</th>\n",
              "      <td>일자리 아닌 일거리···'일정치 않음'을 살다 [녹아내리는 노동]</td>\n",
              "      <td>ㆍ①일자리보다 일거리\\n\\n노동의 미래를 모두 알 수는 없다. 다만 현실에서 일어나...</td>\n",
              "      <td>https://news.naver.com/main/read.nhn?mode=LPOD...</td>\n",
              "      <td>경향신문</td>\n",
              "      <td>2020-01-01</td>\n",
              "    </tr>\n",
              "    <tr>\n",
              "      <th>2</th>\n",
              "      <td>이곳은…기계의 정확도 높이는 ‘인간부품’ 육성공장 아닐까 [녹아내리는 노동]</td>\n",
              "      <td>ㆍ①일자리보다 일거리\\n\\nㆍAI 학습데이터 가공 기업 ‘크라우드웍스’ 교육장 참관...</td>\n",
              "      <td>https://news.naver.com/main/read.nhn?mode=LPOD...</td>\n",
              "      <td>경향신문</td>\n",
              "      <td>2020-01-01</td>\n",
              "    </tr>\n",
              "    <tr>\n",
              "      <th>3</th>\n",
              "      <td>지혜씨, 지훈씨를 부탁해! [인포그래픽]</td>\n",
              "      <td>새로 태어나는 아이들은 줄어들고 어르신들은 계속 나이를 먹어 갑니다. 2020년 새...</td>\n",
              "      <td>https://news.naver.com/main/read.nhn?mode=LPOD...</td>\n",
              "      <td>경향신문</td>\n",
              "      <td>2020-01-01</td>\n",
              "    </tr>\n",
              "    <tr>\n",
              "      <th>4</th>\n",
              "      <td>[20대 리포트] “20대, 함부로 판단말라… 내 길 내가 간다”</td>\n",
              "      <td>새천년의 시작과 함께 세상에 나온 2000년대생들이 어느덧 사회 변화를 이끌 20대...</td>\n",
              "      <td>https://news.naver.com/main/read.nhn?mode=LPOD...</td>\n",
              "      <td>국민일보</td>\n",
              "      <td>2020-01-01</td>\n",
              "    </tr>\n",
              "    <tr>\n",
              "      <th>...</th>\n",
              "      <td>...</td>\n",
              "      <td>...</td>\n",
              "      <td>...</td>\n",
              "      <td>...</td>\n",
              "      <td>...</td>\n",
              "    </tr>\n",
              "    <tr>\n",
              "      <th>29036</th>\n",
              "      <td>\"2.5단계로 무급휴가 요구\"… 코로나 재유행에 살아난 '갑질'</td>\n",
              "      <td>직장인 A씨는  수도권 사회적 거리두기 2.5단계를 시행하는 30일부터 다음달 6일...</td>\n",
              "      <td>https://news.naver.com/main/read.nhn?mode=LPOD...</td>\n",
              "      <td>한국일보</td>\n",
              "      <td>2020-08-31</td>\n",
              "    </tr>\n",
              "    <tr>\n",
              "      <th>29037</th>\n",
              "      <td>모호한 조치ㆍ 깜깜이 환자 비율 40%육박... 거리두기 2.5단계 효과 있을까</td>\n",
              "      <td>30일 0시부터 서울 전역에 강화된 사회적 거리두기(2.5단계)가 시행됐지만, 전문...</td>\n",
              "      <td>https://news.naver.com/main/read.nhn?mode=LPOD...</td>\n",
              "      <td>한국일보</td>\n",
              "      <td>2020-08-31</td>\n",
              "    </tr>\n",
              "    <tr>\n",
              "      <th>29038</th>\n",
              "      <td>내일부터 서울 시내버스 밤 9시 이후 20% 감축… 주말 수준으로</td>\n",
              "      <td>수도권의 ‘사회적 거리두기’ 2.5단계 시행 기간에 맞춰 서울 시내버스의 야간 운행...</td>\n",
              "      <td>https://news.naver.com/main/read.nhn?mode=LPOD...</td>\n",
              "      <td>한국일보</td>\n",
              "      <td>2020-08-31</td>\n",
              "    </tr>\n",
              "    <tr>\n",
              "      <th>29039</th>\n",
              "      <td>집단휴업 두고 전공의 vs 정부 '강대강 대치'... 의료공백 장기화 불가피</td>\n",
              "      <td>21일부터 10일째 무기한 집단휴진을 이어가고 있는 전공의(인턴ㆍ레지던트)들과 정부...</td>\n",
              "      <td>https://news.naver.com/main/read.nhn?mode=LPOD...</td>\n",
              "      <td>한국일보</td>\n",
              "      <td>2020-08-31</td>\n",
              "    </tr>\n",
              "    <tr>\n",
              "      <th>29040</th>\n",
              "      <td>\"제자 한명이라도 피해 입으면 집단휴진\" 의대 교수까지 화났다</td>\n",
              "      <td>전공의들의 집단휴업을 둘러싼 의ㆍ정 갈등이 고조되는 가운데 의료현장을 책임지는 의대...</td>\n",
              "      <td>https://news.naver.com/main/read.nhn?mode=LPOD...</td>\n",
              "      <td>한국일보</td>\n",
              "      <td>2020-08-31</td>\n",
              "    </tr>\n",
              "  </tbody>\n",
              "</table>\n",
              "<p>29041 rows × 5 columns</p>\n",
              "</div>\n",
              "      <button class=\"colab-df-convert\" onclick=\"convertToInteractive('df-0beb7525-0f38-4035-bb56-312c9c6483aa')\"\n",
              "              title=\"Convert this dataframe to an interactive table.\"\n",
              "              style=\"display:none;\">\n",
              "        \n",
              "  <svg xmlns=\"http://www.w3.org/2000/svg\" height=\"24px\"viewBox=\"0 0 24 24\"\n",
              "       width=\"24px\">\n",
              "    <path d=\"M0 0h24v24H0V0z\" fill=\"none\"/>\n",
              "    <path d=\"M18.56 5.44l.94 2.06.94-2.06 2.06-.94-2.06-.94-.94-2.06-.94 2.06-2.06.94zm-11 1L8.5 8.5l.94-2.06 2.06-.94-2.06-.94L8.5 2.5l-.94 2.06-2.06.94zm10 10l.94 2.06.94-2.06 2.06-.94-2.06-.94-.94-2.06-.94 2.06-2.06.94z\"/><path d=\"M17.41 7.96l-1.37-1.37c-.4-.4-.92-.59-1.43-.59-.52 0-1.04.2-1.43.59L10.3 9.45l-7.72 7.72c-.78.78-.78 2.05 0 2.83L4 21.41c.39.39.9.59 1.41.59.51 0 1.02-.2 1.41-.59l7.78-7.78 2.81-2.81c.8-.78.8-2.07 0-2.86zM5.41 20L4 18.59l7.72-7.72 1.47 1.35L5.41 20z\"/>\n",
              "  </svg>\n",
              "      </button>\n",
              "      \n",
              "  <style>\n",
              "    .colab-df-container {\n",
              "      display:flex;\n",
              "      flex-wrap:wrap;\n",
              "      gap: 12px;\n",
              "    }\n",
              "\n",
              "    .colab-df-convert {\n",
              "      background-color: #E8F0FE;\n",
              "      border: none;\n",
              "      border-radius: 50%;\n",
              "      cursor: pointer;\n",
              "      display: none;\n",
              "      fill: #1967D2;\n",
              "      height: 32px;\n",
              "      padding: 0 0 0 0;\n",
              "      width: 32px;\n",
              "    }\n",
              "\n",
              "    .colab-df-convert:hover {\n",
              "      background-color: #E2EBFA;\n",
              "      box-shadow: 0px 1px 2px rgba(60, 64, 67, 0.3), 0px 1px 3px 1px rgba(60, 64, 67, 0.15);\n",
              "      fill: #174EA6;\n",
              "    }\n",
              "\n",
              "    [theme=dark] .colab-df-convert {\n",
              "      background-color: #3B4455;\n",
              "      fill: #D2E3FC;\n",
              "    }\n",
              "\n",
              "    [theme=dark] .colab-df-convert:hover {\n",
              "      background-color: #434B5C;\n",
              "      box-shadow: 0px 1px 3px 1px rgba(0, 0, 0, 0.15);\n",
              "      filter: drop-shadow(0px 1px 2px rgba(0, 0, 0, 0.3));\n",
              "      fill: #FFFFFF;\n",
              "    }\n",
              "  </style>\n",
              "\n",
              "      <script>\n",
              "        const buttonEl =\n",
              "          document.querySelector('#df-0beb7525-0f38-4035-bb56-312c9c6483aa button.colab-df-convert');\n",
              "        buttonEl.style.display =\n",
              "          google.colab.kernel.accessAllowed ? 'block' : 'none';\n",
              "\n",
              "        async function convertToInteractive(key) {\n",
              "          const element = document.querySelector('#df-0beb7525-0f38-4035-bb56-312c9c6483aa');\n",
              "          const dataTable =\n",
              "            await google.colab.kernel.invokeFunction('convertToInteractive',\n",
              "                                                     [key], {});\n",
              "          if (!dataTable) return;\n",
              "\n",
              "          const docLinkHtml = 'Like what you see? Visit the ' +\n",
              "            '<a target=\"_blank\" href=https://colab.research.google.com/notebooks/data_table.ipynb>data table notebook</a>'\n",
              "            + ' to learn more about interactive tables.';\n",
              "          element.innerHTML = '';\n",
              "          dataTable['output_type'] = 'display_data';\n",
              "          await google.colab.output.renderOutput(dataTable, element);\n",
              "          const docLink = document.createElement('div');\n",
              "          docLink.innerHTML = docLinkHtml;\n",
              "          element.appendChild(docLink);\n",
              "        }\n",
              "      </script>\n",
              "    </div>\n",
              "  </div>\n",
              "  "
            ],
            "text/plain": [
              "                                              title  ...        date\n",
              "0                         무너지는 일과 삶의 경계···노동이 녹아내린다  ...  2020-01-01\n",
              "1              일자리 아닌 일거리···'일정치 않음'을 살다 [녹아내리는 노동]  ...  2020-01-01\n",
              "2        이곳은…기계의 정확도 높이는 ‘인간부품’ 육성공장 아닐까 [녹아내리는 노동]  ...  2020-01-01\n",
              "3                            지혜씨, 지훈씨를 부탁해! [인포그래픽]  ...  2020-01-01\n",
              "4              [20대 리포트] “20대, 함부로 판단말라… 내 길 내가 간다”  ...  2020-01-01\n",
              "...                                             ...  ...         ...\n",
              "29036           \"2.5단계로 무급휴가 요구\"… 코로나 재유행에 살아난 '갑질'  ...  2020-08-31\n",
              "29037  모호한 조치ㆍ 깜깜이 환자 비율 40%육박... 거리두기 2.5단계 효과 있을까  ...  2020-08-31\n",
              "29038          내일부터 서울 시내버스 밤 9시 이후 20% 감축… 주말 수준으로  ...  2020-08-31\n",
              "29039    집단휴업 두고 전공의 vs 정부 '강대강 대치'... 의료공백 장기화 불가피  ...  2020-08-31\n",
              "29040            \"제자 한명이라도 피해 입으면 집단휴진\" 의대 교수까지 화났다  ...  2020-08-31\n",
              "\n",
              "[29041 rows x 5 columns]"
            ]
          },
          "metadata": {},
          "execution_count": 3
        }
      ]
    },
    {
      "cell_type": "code",
      "source": [
        "data.isna().sum()"
      ],
      "metadata": {
        "id": "NAua9g8w-5Yo",
        "outputId": "37aab38a-4db0-49af-da05-6ad2528fb5d6",
        "colab": {
          "base_uri": "https://localhost:8080/"
        }
      },
      "execution_count": 37,
      "outputs": [
        {
          "output_type": "execute_result",
          "data": {
            "text/plain": [
              "title    0\n",
              "text     0\n",
              "url      0\n",
              "media    0\n",
              "date     0\n",
              "dtype: int64"
            ]
          },
          "metadata": {},
          "execution_count": 37
        }
      ]
    },
    {
      "cell_type": "code",
      "source": [
        "data.info()"
      ],
      "metadata": {
        "id": "kn9UsJvMJ3_D",
        "colab": {
          "base_uri": "https://localhost:8080/"
        },
        "outputId": "4335148d-7726-4ca6-a605-fbadeea45879"
      },
      "execution_count": 5,
      "outputs": [
        {
          "output_type": "stream",
          "name": "stdout",
          "text": [
            "<class 'pandas.core.frame.DataFrame'>\n",
            "RangeIndex: 29041 entries, 0 to 29040\n",
            "Data columns (total 5 columns):\n",
            " #   Column  Non-Null Count  Dtype \n",
            "---  ------  --------------  ----- \n",
            " 0   title   29041 non-null  object\n",
            " 1   text    29041 non-null  object\n",
            " 2   url     29041 non-null  object\n",
            " 3   media   29041 non-null  object\n",
            " 4   date    29041 non-null  object\n",
            "dtypes: object(5)\n",
            "memory usage: 1.1+ MB\n"
          ]
        }
      ]
    },
    {
      "cell_type": "code",
      "source": [
        "data['media'].value_counts()"
      ],
      "metadata": {
        "colab": {
          "base_uri": "https://localhost:8080/"
        },
        "id": "uPxyzmkS-O2i",
        "outputId": "d25e4bac-e7ac-423d-e2fd-9b2deacb754c"
      },
      "execution_count": 36,
      "outputs": [
        {
          "output_type": "execute_result",
          "data": {
            "text/plain": [
              "경향신문    3715\n",
              "세계일보    3636\n",
              "조선일보    3435\n",
              "동아일보    3316\n",
              "한국일보    3073\n",
              "문화일보    2891\n",
              "서울신문    2817\n",
              "국민일보    2320\n",
              "한겨레     2276\n",
              "중앙일보    1562\n",
              "Name: media, dtype: int64"
            ]
          },
          "metadata": {},
          "execution_count": 36
        }
      ]
    },
    {
      "cell_type": "code",
      "source": [
        ""
      ],
      "metadata": {
        "id": "LDWkJBhg4syx"
      },
      "execution_count": null,
      "outputs": []
    }
  ]
}